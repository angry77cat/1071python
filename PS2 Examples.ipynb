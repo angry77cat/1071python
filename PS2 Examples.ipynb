{
 "cells": [
  {
   "cell_type": "markdown",
   "metadata": {},
   "source": [
    "# Problem 1\n",
    "\n",
    "### A for-else condition\n",
    "If the \"loop\" is not interrupted, it will do \"else\". It will be more efficient when reduce range of loop to (2,math.ceil(n**0.5)+1)  "
   ]
  },
  {
   "cell_type": "code",
   "execution_count": 1,
   "metadata": {
    "collapsed": false,
    "scrolled": true
   },
   "outputs": [
    {
     "name": "stdout",
     "output_type": "stream",
     "text": [
      "A positive integer:41\n",
      "input= 41 output= True\n"
     ]
    }
   ],
   "source": [
    "n = int (input(\"A positive integer:\"))\n",
    "if n > 1 :\n",
    "    for i in range (2,n):\n",
    "        if n%i == 0 :\n",
    "            print (\"input=\",n,\",output= False\")\n",
    "            break\n",
    "    else:\n",
    "        print (\"input=\",n,\"output= True\")\n",
    "else :\n",
    "    print (\"input=\",n,\",output= False\")"
   ]
  },
  {
   "cell_type": "markdown",
   "metadata": {},
   "source": [
    "### A false result\n",
    "The script didn't print a result."
   ]
  },
  {
   "cell_type": "code",
   "execution_count": 4,
   "metadata": {
    "collapsed": false
   },
   "outputs": [
    {
     "name": "stdout",
     "output_type": "stream",
     "text": [
      "請輸入一個數字:41\n"
     ]
    }
   ],
   "source": [
    "a=int(input (\"請輸入一個數字:\"))\n",
    "if a>2:\n",
    "    for i in range(2,a):\n",
    "          if (a % i == 0):\n",
    "              print(a,\"false\")\n",
    "elif a==1:\n",
    "    print(a,\"false\")\n",
    "else:\n",
    "    print (a,\"true\") "
   ]
  },
  {
   "cell_type": "markdown",
   "metadata": {},
   "source": [
    "# Problem 2  \n",
    "### A typical example"
   ]
  },
  {
   "cell_type": "code",
   "execution_count": 7,
   "metadata": {
    "collapsed": false
   },
   "outputs": [
    {
     "name": "stdout",
     "output_type": "stream",
     "text": [
      "gene sequence:GTAC\n",
      "GTAC"
     ]
    }
   ],
   "source": [
    "gene = input(\"gene sequence:\")\n",
    "type(\"gene sequence:\")\n",
    "for i in range(len(gene)-1,-1,-1):\n",
    "    if (gene[i]==\"A\"):\n",
    "        print(\"T\", end=\"\")\n",
    "    elif (gene[i]==\"T\"):\n",
    "        print(\"A\", end=\"\")\n",
    "    elif (gene[i]==\"C\"):\n",
    "        print(\"G\", end=\"\")\n",
    "    elif (gene[i]==\"G\"):\n",
    "        print(\"C\", end=\"\")"
   ]
  },
  {
   "cell_type": "markdown",
   "metadata": {},
   "source": [
    "### The use of \"inverse\" and \"replace\"\n",
    "Hmm... but the inputs should be upper letters."
   ]
  },
  {
   "cell_type": "code",
   "execution_count": 9,
   "metadata": {
    "collapsed": false
   },
   "outputs": [
    {
     "name": "stdout",
     "output_type": "stream",
     "text": [
      "Please enter your dna sequence, only lowercase letters are available = gtac\n",
      "GTAC\n"
     ]
    }
   ],
   "source": [
    "x=(input(\"Please enter your dna sequence, only lowercase letters are available = \"))\n",
    "for i in range(len(x)):\n",
    "    j=x[::-1]\n",
    "    a=j.replace(\"a\",\"T\")\n",
    "    b=a.replace(\"t\",\"A\")\n",
    "    c=b.replace(\"c\",\"G\")\n",
    "    d=c.replace(\"g\",\"C\")\n",
    "print(d)"
   ]
  },
  {
   "cell_type": "markdown",
   "metadata": {},
   "source": [
    "### Didn't do an inverse operation"
   ]
  },
  {
   "cell_type": "code",
   "execution_count": 11,
   "metadata": {
    "collapsed": false
   },
   "outputs": [
    {
     "name": "stdout",
     "output_type": "stream",
     "text": [
      "Please input your sequenceGTAC\n",
      "Complementary sequence = CATG\n",
      "Length of sequence =  4\n"
     ]
    }
   ],
   "source": [
    "seq=input(\"Please input your sequence\")\n",
    "seq_list = list(seq)\n",
    "for i in range(len(seq)):\n",
    "    if seq[i] == \"A\":\n",
    "        seq_list[i]=\"T\"\n",
    "    elif seq[i] == \"T\":\n",
    "        seq_list[i]=\"A\"\n",
    "    elif seq[i] == \"C\":\n",
    "        seq_list[i]=\"G\"\n",
    "    elif seq[i] == \"G\":\n",
    "        seq_list[i]=\"C\"\n",
    "    else:\n",
    "        print(\"There's something wrong in your sequence\")\n",
    "seq2 = \"\".join(seq_list)\n",
    "print(\"Complementary sequence =\",seq2)\n",
    "print(\"Length of sequence = \", len(seq))"
   ]
  },
  {
   "cell_type": "markdown",
   "metadata": {},
   "source": [
    "# Problem3\n",
    "### A typical solution"
   ]
  },
  {
   "cell_type": "code",
   "execution_count": 24,
   "metadata": {
    "collapsed": false
   },
   "outputs": [
    {
     "name": "stdout",
     "output_type": "stream",
     "text": [
      "請輸入N值 : 3\n",
      "在第 3 次落地時共經過 188.888889 公尺\n",
      "第 3 次反彈 3.703704 公尺\n"
     ]
    }
   ],
   "source": [
    "N=input(\"請輸入N值 : \")\n",
    "N=int(N)\n",
    "a=100/3\n",
    "sum=100\n",
    "if N<=0:\n",
    "    print(\"第N次，當然要是正整數啊\")\n",
    "elif N ==1:\n",
    "    print(\"第1次落地時共經過100公尺\")\n",
    "    print(\"第1次反彈 %f 公尺\" %a)\n",
    "else:\n",
    "    for m in range(1,N):\n",
    "        L=100*2/(3**m)\n",
    "        sum=sum+L\n",
    "    l=100/(3**N)\n",
    "    print(\"在第 %d 次落地時共經過 %f 公尺\" %(N,sum))\n",
    "    print(\"第 %d 次反彈 %f 公尺\" %(N,l))"
   ]
  }
 ],
 "metadata": {
  "kernelspec": {
   "display_name": "Python 3",
   "language": "python",
   "name": "python3"
  },
  "language_info": {
   "codemirror_mode": {
    "name": "ipython",
    "version": 3
   },
   "file_extension": ".py",
   "mimetype": "text/x-python",
   "name": "python",
   "nbconvert_exporter": "python",
   "pygments_lexer": "ipython3",
   "version": "3.6.0"
  }
 },
 "nbformat": 4,
 "nbformat_minor": 2
}
