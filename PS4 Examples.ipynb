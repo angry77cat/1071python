{
 "cells": [
  {
   "cell_type": "markdown",
   "metadata": {},
   "source": [
    "# Prob.1\n",
    "### Sol.1 使用dictionary的典型作法"
   ]
  },
  {
   "cell_type": "code",
   "execution_count": 1,
   "metadata": {
    "collapsed": false
   },
   "outputs": [
    {
     "name": "stdout",
     "output_type": "stream",
     "text": [
      "UGCGAUGAAUGGGCUCGCUCC\n",
      "CDEWARS\n"
     ]
    }
   ],
   "source": [
    "rna = input()\n",
    "map = {\"UUU\":\"F\", \"UUC\":\"F\", \"UUA\":\"L\", \"UUG\":\"L\",\n",
    "    \"UCU\":\"S\", \"UCC\":\"S\", \"UCA\":\"S\", \"UCG\":\"S\",\n",
    "    \"UAU\":\"Y\", \"UAC\":\"Y\", \"UAA\":\"STOP\", \"UAG\":\"STOP\",\n",
    "    \"UGU\":\"C\", \"UGC\":\"C\", \"UGA\":\"STOP\", \"UGG\":\"W\",\n",
    "    \"CUU\":\"L\", \"CUC\":\"L\", \"CUA\":\"L\", \"CUG\":\"L\",\n",
    "    \"CCU\":\"P\", \"CCC\":\"P\", \"CCA\":\"P\", \"CCG\":\"P\",\n",
    "    \"CAU\":\"H\", \"CAC\":\"H\", \"CAA\":\"Q\", \"CAG\":\"Q\",\n",
    "    \"CGU\":\"R\", \"CGC\":\"R\", \"CGA\":\"R\", \"CGG\":\"R\",\n",
    "    \"AUU\":\"I\", \"AUC\":\"I\", \"AUA\":\"I\", \"AUG\":\"M\",\n",
    "    \"ACU\":\"T\", \"ACC\":\"T\", \"ACA\":\"T\", \"ACG\":\"T\",\n",
    "    \"AAU\":\"N\", \"AAC\":\"N\", \"AAA\":\"K\", \"AAG\":\"K\",\n",
    "    \"AGU\":\"S\", \"AGC\":\"S\", \"AGA\":\"R\", \"AGG\":\"R\",\n",
    "    \"GUU\":\"V\", \"GUC\":\"V\", \"GUA\":\"V\", \"GUG\":\"V\",\n",
    "    \"GCU\":\"A\", \"GCC\":\"A\", \"GCA\":\"A\", \"GCG\":\"A\",\n",
    "    \"GAU\":\"D\", \"GAC\":\"D\", \"GAA\":\"E\", \"GAG\":\"E\",\n",
    "    \"GGU\":\"G\", \"GGC\":\"G\", \"GGA\":\"G\", \"GGG\":\"G\",}\n",
    "protein = ''\n",
    "for i in range(0,len(rna),3):\n",
    "    protein += map[rna[i:i+3]]\n",
    "print(protein) "
   ]
  },
  {
   "cell_type": "markdown",
   "metadata": {},
   "source": [
    "### Sol.2 利用兩序列對應節省手刻dictionary的困擾  \n",
    "  \n",
    "    zip()範例 \n",
    "    >>> x = [1, 2, 3]\n",
    "    >>> y = [4, 5, 6]\n",
    "    >>> zipped = zip(x, y)\n",
    "    >>> list(zipped)\n",
    "    [(1, 4), (2, 5), (3, 6)]\n",
    "    >>> x2, y2 = zip(*zip(x, y))\n",
    "    >>> x == list(x2) and y == list(y2)\n",
    "    True"
   ]
  },
  {
   "cell_type": "code",
   "execution_count": 2,
   "metadata": {
    "collapsed": false
   },
   "outputs": [
    {
     "name": "stdout",
     "output_type": "stream",
     "text": [
      "input a string: UGCGAUGAAUGGGCUCGCUCC\n",
      "CDEWARS"
     ]
    }
   ],
   "source": [
    "r3 = list()\n",
    "for i in \"UCAG\":\n",
    "    for j in \"UCAG\":\n",
    "        for k in \"UCAG\":\n",
    "            r3.append(j + i + k)\n",
    "trans = \"F\"*2 + \"L\"*6 + \"I\"*3 + \"M\" + \"V\"*4 + \"S\"*4 + \"P\"*4 + \"T\"*4 + \"A\"*4 + \\\n",
    "        \"Y\"*2 + \"X\"*2 + \"H\"*2 + \"Q\"*2 + \"N\"*2 + \"K\"*2 + \"D\"*2 + \"E\"*2 + \\\n",
    "        \"C\"*2 + \"X\" + \"W\" + \"R\"*4 + \"S\"*2 + \"R\"*2 + \"G\"*4\n",
    "trans2 = list()\n",
    "for i in trans:\n",
    "    trans2.append(i)\n",
    "dic = dict(zip(r3, trans2))\n",
    "\n",
    "#io\n",
    "r = list(input(\"input a string: \"))\n",
    "r2 = list()\n",
    "for i in range(0, len(r) - 2, 3):\n",
    "    r2.append(str(r[i]) + str(r[i+1]) + str(r[i+2]))\n",
    "for i in range(0, len(r2)):\n",
    "    print(dic[r2[i]], end = \"\", sep = \"\")"
   ]
  },
  {
   "cell_type": "markdown",
   "metadata": {},
   "source": [
    "# Prob.2\n",
    "### Sol.1 使用datatime及sys套件與例外處理（try-except）\n",
    "+ datatime是能方便處理日期與時間的套件  \n",
    "按照其格式輸入yyyy-mm-dd後，即可自動判斷是否為valid date，若要輸出星期也只需.isoweekday()就搞定  \n",
    "詳情可見<https://github.com/tomlinNTUB/Python/blob/master/08-1%20資料型態-datetime及date.md>或<http://www.wklken.me/posts/2015/03/03/python-base-datetime.html>  \n",
    "+ sys屬於系統相關的套件這裡用到的sys.exit(0)相當於結束掉這個python的session（可以先理解成強制終止程式），如果你在sypder上的Ipython console上打exit(0)，應該會發現console之前打過的東西和變數都消失了，過了一段短暫的時間sypder又會讓他重啟。\n",
    "+ try-except是捕捉程式例外的機制，例如debug常見的SyntaxError等都於例外事件，如果能把這個例外捕捉起來可以多做很多事情，像是以下範例中，要是輸入了一個不合理的日期，try-except就會捕捉到datetime的ValueError事件，因此程式就會提前印出Invalid date並結束。不過這個還沒教，先不要太擔心哈哈。"
   ]
  },
  {
   "cell_type": "code",
   "execution_count": 3,
   "metadata": {
    "collapsed": false
   },
   "outputs": [
    {
     "name": "stdout",
     "output_type": "stream",
     "text": [
      "9999-12-31\n",
      "December 31th,Friday\n"
     ]
    }
   ],
   "source": [
    "import datetime\n",
    "import sys\n",
    "date = input()\n",
    "isinValidDate = False\n",
    "try :\n",
    "    Date = datetime.datetime(int(date[0:4]),int(date[5:7]),int(date[8:10]))\n",
    "except ValueError :\n",
    "    isinValidDate = True\n",
    "if isinValidDate:\n",
    "    print('Invalid date')\n",
    "    sys.exit(0)\n",
    "    \n",
    "month = {'01':'January','02':'February','03':'March','04':'April','05':'May','06':'June','07':'July','08':'August','09':'September','10':'October','11':'November','12':'December'}\n",
    "day = {1:'Monday',2:'Tuesday',3:'Wednesday',4:'Thursday',5:'Friday',6:'Saturday',7:'Sunday'}\n",
    "\n",
    "print(month[date[5:7]],end=\" \")\n",
    "if date[8:10] == '01':\n",
    "    print ('1st',end=',')\n",
    "elif date[8:10] == '02':\n",
    "    print('2nd',end=',')\n",
    "elif date[8:10] == '03':\n",
    "    print('3rd',end=',')\n",
    "else:\n",
    "    print(date[8:10],end=\"\")\n",
    "    print(\"th\",end=',')\n",
    "print(day[Date.isoweekday()])"
   ]
  },
  {
   "cell_type": "markdown",
   "metadata": {},
   "source": [
    "### Sol.2 不那麼難懂的解法  \n",
    "+ 字串操作.split()  \n",
    "split其實是個很好用的東西，大家不妨可以試試看它的功用。  \n",
    "+ 函數  \n",
    "這裡用到了最近才交到的def來處理判斷是否為leap year的情況，強烈建議大家善加利用，應該會讓程式寫的更簡潔許多。\n",
    "+ 架構  \n",
    "這位同學的code首先會判斷是否為閏年，並以此決定每個月日數的上限如leap_m和m，以此確認是否為valid date。  \n",
    "第二步要將月日及星期轉換為字的時候，才真正用到dictionary去做對應。  \n",
    "Bonus方面上，則藉由一年365天%7=1，366天%7=2的機制去調整星期的對應，到了指定年份後再去算該日是該年的第幾天。"
   ]
  },
  {
   "cell_type": "code",
   "execution_count": 4,
   "metadata": {
    "collapsed": false
   },
   "outputs": [
    {
     "name": "stdout",
     "output_type": "stream",
     "text": [
      "input a date: 1000-01-01\n",
      "January 1st,Wednesday"
     ]
    }
   ],
   "source": [
    "#input data and test if it's leap year\n",
    "date = input(\"input a date: \")\n",
    "date_s = date.split(\"-\")\n",
    "year = int(date_s[0])\n",
    "month = int(date_s[1])\n",
    "day = int(date_s[2])\n",
    "def leap_y(y):\n",
    "    return(y % 4 == 0 and (y % 400 == 0 or y % 100 != 0))\n",
    "bool_y = leap_y(year)\n",
    "\n",
    "#lists\n",
    "leap_m = [31, 29, 31, 30, 31, 30, 31, 31, 30, 31, 30, 31]\n",
    "m = [31, 28, 31, 30, 31, 30, 31, 31, 30, 31, 30, 31]\n",
    "day_list = [\"1st\", \"2nd\", \"3rd\"]\n",
    "for i in range(4, 21):\n",
    "    day_list.append(str(i) + \"th\")\n",
    "day_list += [\"21st\", \"22nd\", \"23rd\"]\n",
    "for i in range(24, 31):\n",
    "    day_list.append(str(i) + \"th\")\n",
    "day_list += [\"31st\"]\n",
    "month_list = [\"January\", \"February\", \"March\", \"April\", \"May\", \"June\", \"July\", \\\n",
    "                \"August\", \"September\", \"October\", \"November\", \"December\"]\n",
    "day_list2 = [\"Monday\", \"Tuesday\", \"Wednesday\", \"Tuesday\", \"Friday\", \"Saturday\", \"Sunday\"]\n",
    "\n",
    "#dictionaries\n",
    "dic = dict(zip(range(1, 13), leap_m if bool_y else m))\n",
    "dic2 = dict(zip(range(1, 32), day_list))\n",
    "dic3 = dict(zip(range(1, 13), month_list))\n",
    "dic4 = dict(zip(range(1, 8), day_list2))\n",
    "\n",
    "#output\n",
    "if month > 12 or day > dic[month]:\n",
    "    print(\"invalid date\")\n",
    "else:\n",
    "    print(str(dic3[month]) + \" \" + str(dic2[day]) + \",\", sep = \"\", end = \"\")\n",
    "    day2 = 1\n",
    "    year_index = 2018\n",
    "    month_index = 1\n",
    "    if year >= 2018:\n",
    "        while year != year_index:\n",
    "            if leap_y(year_index):\n",
    "                day2 += 2\n",
    "            else:\n",
    "                day2 += 1\n",
    "            if day2 > 7:\n",
    "                day2 -= 7\n",
    "            year_index += 1\n",
    "    else:\n",
    "        while year != year_index:\n",
    "            if leap_y(year_index - 1):\n",
    "                day2 -= 2\n",
    "            else:\n",
    "                day2 -= 1\n",
    "            if day2 < 1:\n",
    "                day2 += 7\n",
    "            year_index -= 1\n",
    "    while month_index != month:\n",
    "        day2 = (day2 + dic[month_index]) % 7\n",
    "        if day2 == 0:\n",
    "            day2 = 7\n",
    "        month_index += 1\n",
    "    day2 = (day2 + day - 1) % 7\n",
    "    if day2 == 0:\n",
    "        day2 = 7\n",
    "    print(dic4[day2], end = \"\")"
   ]
  },
  {
   "cell_type": "markdown",
   "metadata": {},
   "source": [
    "# Prob.3  \n",
    "### Sol.a  \n",
    "+ isprime() trick  \n",
    "解質數問題時，回想一下質因數分解的過程大概猜得到其實只要算到n^0.5即可。千萬別小看這個動作，如果n有17位數的話，這可就是for loop要跑8位數次和17位數次的差別了。  \n",
    "+ 寫成函數的優點\n",
    "根據函數的定義，函數只要執行到return就會直接結束了，這件事情將可以減少傳統上寫判斷函數的一些複雜情況。（像是非質數情況下，發現%i==0時要用break提前跳出迴圈。而是質數的情況下，必須等到for loop做到最後都沒有%i==0的情況時才能說是質數）"
   ]
  },
  {
   "cell_type": "code",
   "execution_count": 24,
   "metadata": {
    "collapsed": false
   },
   "outputs": [
    {
     "name": "stdout",
     "output_type": "stream",
     "text": [
      "False\n",
      "True\n",
      "False\n",
      "True\n"
     ]
    }
   ],
   "source": [
    "# sol. w/o function 1\n",
    "nums = [12,13]\n",
    "for n in nums:\n",
    "    FLAG = 0 \n",
    "    if n <= 1:\n",
    "        print(False)\n",
    "    elif n == 2:\n",
    "        print(True)\n",
    "    else:\n",
    "        for i in range(2,int(n**0.5)+2):\n",
    "            if n % i == 0:\n",
    "                FLAG += 1\n",
    "                print(False)\n",
    "                break\n",
    "        if FLAG == 0:\n",
    "            print(True)\n",
    "            \n",
    "# sol. w/o function 2\n",
    "for n in nums:\n",
    "    if n <= 1:\n",
    "        print(False)\n",
    "    elif n == 2:\n",
    "        print(True)\n",
    "    else:\n",
    "        for i in range(2,int(n**0.5)+2):\n",
    "            if n % i == 0:\n",
    "                print(False)\n",
    "                break\n",
    "        else: # 這邊用for-else架構，當for沒有被break的時候才會進行else\n",
    "            print(True)"
   ]
  },
  {
   "cell_type": "code",
   "execution_count": 13,
   "metadata": {
    "collapsed": false
   },
   "outputs": [
    {
     "name": "stdout",
     "output_type": "stream",
     "text": [
      "input n: 5\n",
      "5\n"
     ]
    }
   ],
   "source": [
    "def Fib(n):\n",
    "    if n == 0:\n",
    "        return 0\n",
    "    elif n == 1:\n",
    "        return 1\n",
    "    else:\n",
    "        a, b = 0, 1\n",
    "        for i in range(n-1):\n",
    "            a = a + b\n",
    "            b, a = a, b\n",
    "        return b\n",
    "def isprime(n):\n",
    "    if n <= 1:\n",
    "        return False\n",
    "    elif n == 2:\n",
    "        return True\n",
    "    else:\n",
    "        for i in range(2,int(n**0.5)+2):\n",
    "            if n % i == 0:\n",
    "                return False\n",
    "        return True\n",
    "print(Fib(int(input(\"input n: \"))))"
   ]
  },
  {
   "cell_type": "markdown",
   "metadata": {},
   "source": [
    "### Sol.b  \n",
    "+ while的運用  \n",
    "在無法事先知道loop要跑幾圈的情況時，while非常好用。像現在就是不知道n要跑到多少，若貿然設定for loop的次數，有可能在這當中根本不包含解。但必須注意，while的條件設定必須非常小心，像這個例子中n就會隨著loop一直改變，直到某次while的條件不符合了，程式就得以往下一步進行。否則很多時候會陷在無限迴圈中無法跳出去，不過有條件地設定break就另當別論了。"
   ]
  },
  {
   "cell_type": "code",
   "execution_count": 14,
   "metadata": {
    "collapsed": false
   },
   "outputs": [
    {
     "name": "stdout",
     "output_type": "stream",
     "text": [
      "b\n",
      "21\n",
      "31\n"
     ]
    }
   ],
   "source": [
    "print(\"b\")\n",
    "n = 0\n",
    "while Fib(n) <= 1e4:\n",
    "    n += 1\n",
    "print(n)\n",
    "n = 0\n",
    "while Fib(n) <= 1e6:\n",
    "    n += 1\n",
    "print(n)"
   ]
  },
  {
   "cell_type": "markdown",
   "metadata": {},
   "source": [
    "### Sol.c  \n",
    "+ 計算時間  \n",
    "這題考驗著產生數列和判斷是否為質數（最重要!!!）的演算法寫得好不好。除了第12項外，其他項次幾乎可以在一秒內計算完畢。"
   ]
  },
  {
   "cell_type": "code",
   "execution_count": 16,
   "metadata": {
    "collapsed": false
   },
   "outputs": [
    {
     "name": "stdout",
     "output_type": "stream",
     "text": [
      "c\n",
      "(2,3),(3,4),(5,5),(13,7),(89,11),(233,13),(1597,17),(28657,23),(514229,29),(433494437,43),(2971215073,47),(99194853094755497,83)\n"
     ]
    }
   ],
   "source": [
    "print(\"c\")\n",
    "n_prime = 0\n",
    "i = 0\n",
    "while(n_prime < 12):\n",
    "    i += 1\n",
    "    f = Fib(i)\n",
    "    if isprime(f):\n",
    "        if n_prime > 0:\n",
    "            print(',(%d,%d)' % (f,i), end = '')\n",
    "        else:\n",
    "            print('(%d,%d)' % (f,i), end = '')\n",
    "        n_prime += 1 \n",
    "print('')"
   ]
  },
  {
   "cell_type": "markdown",
   "metadata": {},
   "source": [
    "### Sol.d  \n",
    "有些同學沒注意到這邊比較的是相對誤差。"
   ]
  },
  {
   "cell_type": "code",
   "execution_count": 17,
   "metadata": {
    "collapsed": false
   },
   "outputs": [
    {
     "name": "stdout",
     "output_type": "stream",
     "text": [
      "d\n",
      "7\n",
      "9\n"
     ]
    }
   ],
   "source": [
    "print(\"d\")\n",
    "gd = (1 + 5**0.5)/2\n",
    "n = 3\n",
    "while(abs((Fib(n)/Fib(n-1) - gd)/gd) > 1e-2):\n",
    "    n += 1\n",
    "print(n)\n",
    "while(abs((Fib(n)/Fib(n-1) - gd)/gd) > 1e-3):\n",
    "    n += 1\n",
    "print(n)"
   ]
  },
  {
   "cell_type": "code",
   "execution_count": null,
   "metadata": {
    "collapsed": true
   },
   "outputs": [],
   "source": []
  }
 ],
 "metadata": {
  "kernelspec": {
   "display_name": "Python 3",
   "language": "python",
   "name": "python3"
  },
  "language_info": {
   "codemirror_mode": {
    "name": "ipython",
    "version": 3
   },
   "file_extension": ".py",
   "mimetype": "text/x-python",
   "name": "python",
   "nbconvert_exporter": "python",
   "pygments_lexer": "ipython3",
   "version": "3.6.0"
  }
 },
 "nbformat": 4,
 "nbformat_minor": 2
}
