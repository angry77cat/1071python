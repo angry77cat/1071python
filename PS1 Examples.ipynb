{
 "cells": [
  {
   "cell_type": "markdown",
   "metadata": {},
   "source": [
    "# Problem 1  \n",
    "\n",
    "### A typical example"
   ]
  },
  {
   "cell_type": "code",
   "execution_count": 1,
   "metadata": {
    "collapsed": false
   },
   "outputs": [
    {
     "name": "stdout",
     "output_type": "stream",
     "text": [
      "半徑=10\n",
      "314.1592653589793 62.83185307179586\n"
     ]
    }
   ],
   "source": [
    "import math\n",
    "pi = math.pi\n",
    "r = float(input(\"半徑=\"))\n",
    "area = r * r * pi\n",
    "peri = 2 * pi * r\n",
    "print(area, peri)"
   ]
  },
  {
   "cell_type": "markdown",
   "metadata": {},
   "source": [
    "# Problem 2\n",
    "### A typical example"
   ]
  },
  {
   "cell_type": "code",
   "execution_count": 2,
   "metadata": {
    "collapsed": false
   },
   "outputs": [
    {
     "name": "stdout",
     "output_type": "stream",
     "text": [
      "x=-10\n",
      "990.0\n"
     ]
    }
   ],
   "source": [
    "x = float(input(\"x=\"))\n",
    "y = abs(x) ** 3 + x\n",
    "print(y)"
   ]
  },
  {
   "cell_type": "markdown",
   "metadata": {},
   "source": [
    "# Problem 3\n",
    "### Python also support variables named in Chinese, but it is not suggested so."
   ]
  },
  {
   "cell_type": "code",
   "execution_count": 4,
   "metadata": {
    "collapsed": false
   },
   "outputs": [
    {
     "name": "stdout",
     "output_type": "stream",
     "text": [
      "please input 公里數:10\n",
      "乘車費用 = 360.0元\n"
     ]
    }
   ],
   "source": [
    "公里數=float(input(\"please input 公里數:\"))\n",
    "print(\"乘車費用 = \"+str(90+(公里數-1)*30)+\"元\")"
   ]
  },
  {
   "cell_type": "markdown",
   "metadata": {},
   "source": [
    "# Problem 5\n",
    "### A solution in only one line."
   ]
  },
  {
   "cell_type": "code",
   "execution_count": 5,
   "metadata": {
    "collapsed": false
   },
   "outputs": [
    {
     "name": "stdout",
     "output_type": "stream",
     "text": [
      "年份=2020\n",
      "True\n"
     ]
    }
   ],
   "source": [
    "year = int(input(\"年份=\"))\n",
    "print(year % 4 == 0 and (year % 400 == 0 or year % 100 != 0))"
   ]
  },
  {
   "cell_type": "markdown",
   "metadata": {},
   "source": [
    "### A typical solution"
   ]
  },
  {
   "cell_type": "code",
   "execution_count": 8,
   "metadata": {
    "collapsed": false
   },
   "outputs": [
    {
     "name": "stdout",
     "output_type": "stream",
     "text": [
      "2020\n",
      "leap year\n"
     ]
    }
   ],
   "source": [
    "year = int(input())\n",
    "if year % 400 == 0:\n",
    "    print (\"leap year\")\n",
    "elif year % 100 == 0:\n",
    "    print (\"not leap year\")\n",
    "elif year % 4 == 0:\n",
    "    print (\"leap year\")\n",
    "else:\n",
    "    print (\"not leap year\")"
   ]
  }
 ],
 "metadata": {
  "kernelspec": {
   "display_name": "Python 3",
   "language": "python",
   "name": "python3"
  },
  "language_info": {
   "codemirror_mode": {
    "name": "ipython",
    "version": 3
   },
   "file_extension": ".py",
   "mimetype": "text/x-python",
   "name": "python",
   "nbconvert_exporter": "python",
   "pygments_lexer": "ipython3",
   "version": "3.6.0"
  }
 },
 "nbformat": 4,
 "nbformat_minor": 2
}
